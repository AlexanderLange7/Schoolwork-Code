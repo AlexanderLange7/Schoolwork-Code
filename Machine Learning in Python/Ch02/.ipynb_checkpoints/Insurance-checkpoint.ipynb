{
 "cells": [
  {
   "cell_type": "markdown",
   "metadata": {},
   "source": [
    "# Alex Lange\n",
    "## 1-28-2019|\n"
   ]
  },
  {
   "cell_type": "code",
   "execution_count": 1,
   "metadata": {},
   "outputs": [
    {
     "data": {
      "text/html": [
       "<div>\n",
       "<style scoped>\n",
       "    .dataframe tbody tr th:only-of-type {\n",
       "        vertical-align: middle;\n",
       "    }\n",
       "\n",
       "    .dataframe tbody tr th {\n",
       "        vertical-align: top;\n",
       "    }\n",
       "\n",
       "    .dataframe thead th {\n",
       "        text-align: right;\n",
       "    }\n",
       "</style>\n",
       "<table border=\"1\" class=\"dataframe\">\n",
       "  <thead>\n",
       "    <tr style=\"text-align: right;\">\n",
       "      <th></th>\n",
       "      <th>age</th>\n",
       "      <th>sex</th>\n",
       "      <th>bmi</th>\n",
       "      <th>children</th>\n",
       "      <th>smoker</th>\n",
       "      <th>region</th>\n",
       "      <th>charges</th>\n",
       "    </tr>\n",
       "  </thead>\n",
       "  <tbody>\n",
       "    <tr>\n",
       "      <th>0</th>\n",
       "      <td>19</td>\n",
       "      <td>female</td>\n",
       "      <td>27.900</td>\n",
       "      <td>0</td>\n",
       "      <td>yes</td>\n",
       "      <td>southwest</td>\n",
       "      <td>16884.92</td>\n",
       "    </tr>\n",
       "    <tr>\n",
       "      <th>1</th>\n",
       "      <td>18</td>\n",
       "      <td>male</td>\n",
       "      <td>33.770</td>\n",
       "      <td>1</td>\n",
       "      <td>no</td>\n",
       "      <td>southeast</td>\n",
       "      <td>1725.55</td>\n",
       "    </tr>\n",
       "    <tr>\n",
       "      <th>2</th>\n",
       "      <td>28</td>\n",
       "      <td>male</td>\n",
       "      <td>33.000</td>\n",
       "      <td>3</td>\n",
       "      <td>no</td>\n",
       "      <td>southeast</td>\n",
       "      <td>4449.46</td>\n",
       "    </tr>\n",
       "    <tr>\n",
       "      <th>3</th>\n",
       "      <td>33</td>\n",
       "      <td>male</td>\n",
       "      <td>22.705</td>\n",
       "      <td>0</td>\n",
       "      <td>no</td>\n",
       "      <td>northwest</td>\n",
       "      <td>21984.47</td>\n",
       "    </tr>\n",
       "    <tr>\n",
       "      <th>4</th>\n",
       "      <td>32</td>\n",
       "      <td>male</td>\n",
       "      <td>28.880</td>\n",
       "      <td>0</td>\n",
       "      <td>no</td>\n",
       "      <td>northwest</td>\n",
       "      <td>3866.86</td>\n",
       "    </tr>\n",
       "  </tbody>\n",
       "</table>\n",
       "</div>"
      ],
      "text/plain": [
       "   age     sex     bmi  children smoker     region   charges\n",
       "0   19  female  27.900         0    yes  southwest  16884.92\n",
       "1   18    male  33.770         1     no  southeast   1725.55\n",
       "2   28    male  33.000         3     no  southeast   4449.46\n",
       "3   33    male  22.705         0     no  northwest  21984.47\n",
       "4   32    male  28.880         0     no  northwest   3866.86"
      ]
     },
     "execution_count": 1,
     "metadata": {},
     "output_type": "execute_result"
    }
   ],
   "source": [
    "# Decompress insurance.tgz and then load insurance.csv as a Pandas Dataframe.\n",
    "# Import Statements\n",
    "import tarfile\n",
    "import pandas as pds\n",
    "import os\n",
    "\n",
    "# The decompFetch method decompresses our file and fetches the data from our tarfile. From there, a csv is made in the same dir.\n",
    "def decompFetch():\n",
    "    #Decompress the tarfile.\n",
    "    insurance_tgz = tarfile.open('insurance.tgz')\n",
    "    insurance_tgz.extractall(path = '.' )\n",
    "    insurance_tgz.close()\n",
    "\n",
    "# The loadData method opens our csv file and loads its information into the Pandas dataframe\n",
    "def loadData():\n",
    "    return pds.read_csv('insurance.csv')  \n",
    "    \n",
    "    \n",
    "# Run our decompFetch Method    \n",
    "decompFetch()\n",
    "# Insurance is our data set, which we will load up with our data.\n",
    "insurance =loadData()\n",
    "# Show a sample of data\n",
    "insurance.head()"
   ]
  },
  {
   "cell_type": "code",
   "execution_count": 2,
   "metadata": {},
   "outputs": [
    {
     "name": "stdout",
     "output_type": "stream",
     "text": [
      "<class 'pandas.core.frame.DataFrame'>\n",
      "RangeIndex: 1338 entries, 0 to 1337\n",
      "Data columns (total 7 columns):\n",
      "age         1338 non-null int64\n",
      "sex         1338 non-null object\n",
      "bmi         1323 non-null float64\n",
      "children    1338 non-null int64\n",
      "smoker      1338 non-null object\n",
      "region      1338 non-null object\n",
      "charges     1338 non-null float64\n",
      "dtypes: float64(2), int64(2), object(3)\n",
      "memory usage: 73.2+ KB\n"
     ]
    }
   ],
   "source": [
    "#Check for missing info through the meta-data\n",
    "insurance.info()"
   ]
  },
  {
   "cell_type": "code",
   "execution_count": 3,
   "metadata": {},
   "outputs": [
    {
     "data": {
      "text/plain": [
       "male      676\n",
       "female    662\n",
       "Name: sex, dtype: int64"
      ]
     },
     "execution_count": 3,
     "metadata": {},
     "output_type": "execute_result"
    }
   ],
   "source": [
    "# look at the categorical fields; look at the sex field here\n",
    "insurance['sex'].value_counts()"
   ]
  },
  {
   "cell_type": "code",
   "execution_count": 4,
   "metadata": {},
   "outputs": [
    {
     "data": {
      "text/plain": [
       "no     1064\n",
       "yes     274\n",
       "Name: smoker, dtype: int64"
      ]
     },
     "execution_count": 4,
     "metadata": {},
     "output_type": "execute_result"
    }
   ],
   "source": [
    "# now the smoker field\n",
    "insurance['smoker'].value_counts()"
   ]
  },
  {
   "cell_type": "code",
   "execution_count": 5,
   "metadata": {},
   "outputs": [
    {
     "data": {
      "text/plain": [
       "southeast    364\n",
       "southwest    325\n",
       "northwest    325\n",
       "northeast    324\n",
       "Name: region, dtype: int64"
      ]
     },
     "execution_count": 5,
     "metadata": {},
     "output_type": "execute_result"
    }
   ],
   "source": [
    "# now the region field\n",
    "insurance['region'].value_counts()"
   ]
  },
  {
   "cell_type": "code",
   "execution_count": 6,
   "metadata": {},
   "outputs": [
    {
     "data": {
      "text/html": [
       "<div>\n",
       "<style scoped>\n",
       "    .dataframe tbody tr th:only-of-type {\n",
       "        vertical-align: middle;\n",
       "    }\n",
       "\n",
       "    .dataframe tbody tr th {\n",
       "        vertical-align: top;\n",
       "    }\n",
       "\n",
       "    .dataframe thead th {\n",
       "        text-align: right;\n",
       "    }\n",
       "</style>\n",
       "<table border=\"1\" class=\"dataframe\">\n",
       "  <thead>\n",
       "    <tr style=\"text-align: right;\">\n",
       "      <th></th>\n",
       "      <th>age</th>\n",
       "      <th>bmi</th>\n",
       "      <th>children</th>\n",
       "      <th>charges</th>\n",
       "    </tr>\n",
       "  </thead>\n",
       "  <tbody>\n",
       "    <tr>\n",
       "      <th>count</th>\n",
       "      <td>1338.000000</td>\n",
       "      <td>1323.000000</td>\n",
       "      <td>1338.000000</td>\n",
       "      <td>1338.000000</td>\n",
       "    </tr>\n",
       "    <tr>\n",
       "      <th>mean</th>\n",
       "      <td>39.207025</td>\n",
       "      <td>30.666017</td>\n",
       "      <td>1.094918</td>\n",
       "      <td>13270.422414</td>\n",
       "    </tr>\n",
       "    <tr>\n",
       "      <th>std</th>\n",
       "      <td>14.049960</td>\n",
       "      <td>6.088645</td>\n",
       "      <td>1.205493</td>\n",
       "      <td>12110.011240</td>\n",
       "    </tr>\n",
       "    <tr>\n",
       "      <th>min</th>\n",
       "      <td>18.000000</td>\n",
       "      <td>15.960000</td>\n",
       "      <td>0.000000</td>\n",
       "      <td>1121.870000</td>\n",
       "    </tr>\n",
       "    <tr>\n",
       "      <th>25%</th>\n",
       "      <td>27.000000</td>\n",
       "      <td>26.315000</td>\n",
       "      <td>0.000000</td>\n",
       "      <td>4740.287500</td>\n",
       "    </tr>\n",
       "    <tr>\n",
       "      <th>50%</th>\n",
       "      <td>39.000000</td>\n",
       "      <td>30.400000</td>\n",
       "      <td>1.000000</td>\n",
       "      <td>9382.030000</td>\n",
       "    </tr>\n",
       "    <tr>\n",
       "      <th>75%</th>\n",
       "      <td>51.000000</td>\n",
       "      <td>34.687500</td>\n",
       "      <td>2.000000</td>\n",
       "      <td>16639.915000</td>\n",
       "    </tr>\n",
       "    <tr>\n",
       "      <th>max</th>\n",
       "      <td>64.000000</td>\n",
       "      <td>53.130000</td>\n",
       "      <td>5.000000</td>\n",
       "      <td>63770.430000</td>\n",
       "    </tr>\n",
       "  </tbody>\n",
       "</table>\n",
       "</div>"
      ],
      "text/plain": [
       "               age          bmi     children       charges\n",
       "count  1338.000000  1323.000000  1338.000000   1338.000000\n",
       "mean     39.207025    30.666017     1.094918  13270.422414\n",
       "std      14.049960     6.088645     1.205493  12110.011240\n",
       "min      18.000000    15.960000     0.000000   1121.870000\n",
       "25%      27.000000    26.315000     0.000000   4740.287500\n",
       "50%      39.000000    30.400000     1.000000   9382.030000\n",
       "75%      51.000000    34.687500     2.000000  16639.915000\n",
       "max      64.000000    53.130000     5.000000  63770.430000"
      ]
     },
     "execution_count": 6,
     "metadata": {},
     "output_type": "execute_result"
    }
   ],
   "source": [
    "# examine the characteristics of the numerical fields\n",
    "insurance.describe()"
   ]
  },
  {
   "cell_type": "code",
   "execution_count": 7,
   "metadata": {},
   "outputs": [
    {
     "data": {
      "image/png": "[encoded data removed]",
      "text/plain": [
       "<Figure size 1440x1080 with 4 Axes>"
      ]
     },
     "metadata": {
      "needs_background": "light"
     },
     "output_type": "display_data"
    }
   ],
   "source": [
    "# do histograms of the numeric fields\n",
    "# This line is to make matplotlib show up in jupyter\n",
    "%matplotlib inline\n",
    "# Import our plots\n",
    "import matplotlib.pyplot as plt\n",
    "\n",
    "# Call our histogram method and make graphs\n",
    "insurance.hist(bins=50, figsize=(20, 15))\n",
    "# Show our plot\n",
    "plt.show()\n",
    "\n"
   ]
  },
  {
   "cell_type": "code",
   "execution_count": 8,
   "metadata": {},
   "outputs": [
    {
     "data": {
      "image/png": "[encoded data removed]",
      "text/plain": [
       "<Figure size 432x288 with 1 Axes>"
      ]
     },
     "metadata": {
      "needs_background": "light"
     },
     "output_type": "display_data"
    }
   ],
   "source": [
    "# create a 'bmi_cat' field in the data set, which puts the BMI values\n",
    "# into five categories (1, 2, 3, 4, and 5). You will have to 'shift'\n",
    "# the BMI values to the left, in addition to a division, because the\n",
    "# minimum value is not zero.\n",
    "\n",
    "#imports\n",
    "import numpy as np\n",
    "\n",
    "\n",
    "#Right here, I really am clueless.\n",
    "\n",
    "#So first I took all of the bmi values and I cielinged them, so we still essentially have the same data.\n",
    "#From there, I fiddled with the numbers quite a bit, and then realized that dividing by 10 made some sort of sense\n",
    "#since we're splitting everything into five categories, and the min and max are 15/53 respectively.\n",
    "insurance['bmi_cat'] = np.ceil(insurance['bmi']/10)-2\n",
    "\n",
    "#Then we split our data up into 5 different bins. I'm not really sure what the .where command does. \n",
    "insurance['bmi_cat'].where(insurance['bmi_cat'] < 60, 5.0, inplace=True)\n",
    "insurance['bmi_cat'].hist(bins=5)\n",
    "#Then we show our plot.\n",
    "plt.show()"
   ]
  },
  {
   "cell_type": "code",
   "execution_count": 9,
   "metadata": {},
   "outputs": [],
   "source": [
    "# create a training and testing set (80% / 20%) using StratifiedShuffleSplit,\n",
    "# based on the 'bmi_cat' field you created. \n",
    "\n",
    "from sklearn.model_selection import StratifiedShuffleSplit\n",
    "\n",
    "#create our training sets out of bmi_cat\n",
    "split = StratifiedShuffleSplit(n_splits=1, test_size=0.2, random_state=24)\n",
    "for train_index, test_index in split.split(insurance, insurance['bmi_cat']):\n",
    "    strat_train_set = insurance.loc[train_index]\n",
    "    strat_test_set = insurance.loc[test_index]\n"
   ]
  },
  {
   "cell_type": "code",
   "execution_count": 10,
   "metadata": {},
   "outputs": [
    {
     "data": {
      "text/plain": [
       "2.0    0.455224\n",
       "1.0    0.436567\n",
       "3.0    0.063433\n",
       "0.0    0.029851\n",
       "5.0    0.011194\n",
       "4.0    0.003731\n",
       "Name: bmi_cat, dtype: float64"
      ]
     },
     "execution_count": 10,
     "metadata": {},
     "output_type": "execute_result"
    }
   ],
   "source": [
    "# look at the percent of values in each BMI category in the test set\n",
    "strat_test_set['bmi_cat'].value_counts() / len(strat_test_set)"
   ]
  },
  {
   "cell_type": "code",
   "execution_count": 11,
   "metadata": {},
   "outputs": [
    {
     "data": {
      "text/plain": [
       "2.0    122\n",
       "1.0    117\n",
       "3.0     17\n",
       "0.0      8\n",
       "5.0      3\n",
       "4.0      1\n",
       "Name: bmi_cat, dtype: int64"
      ]
     },
     "execution_count": 11,
     "metadata": {},
     "output_type": "execute_result"
    }
   ],
   "source": [
    "# ditto for the full data set; make sure the percentages are close\n",
    "strat_test_set['bmi_cat'].value_counts()"
   ]
  },
  {
   "cell_type": "code",
   "execution_count": 12,
   "metadata": {},
   "outputs": [],
   "source": [
    "# drop the 'bmi_cat' field from the training, test, and full dataframes\n",
    "# lastly, get rid of the income_cat field so our data is back to original state\n",
    "for set_ in (strat_train_set, strat_test_set):\n",
    "    set_.drop('bmi_cat', axis=1, inplace=True)"
   ]
  },
  {
   "cell_type": "code",
   "execution_count": 13,
   "metadata": {},
   "outputs": [
    {
     "data": {
      "text/plain": [
       "charges     1.000000\n",
       "age         0.292802\n",
       "bmi         0.198246\n",
       "children    0.066571\n",
       "Name: charges, dtype: float64"
      ]
     },
     "execution_count": 13,
     "metadata": {},
     "output_type": "execute_result"
    }
   ],
   "source": [
    "# make a copy of the training dataframe, and then examine the correlation\n",
    "# coefficient between the charges attribute and the others\n",
    "insurance = strat_train_set.copy()\n",
    "# show the correlation coefficient\n",
    "corr_matrix = insurance.corr()\n",
    "corr_matrix['charges'].sort_values(ascending=False)"
   ]
  },
  {
   "cell_type": "code",
   "execution_count": 14,
   "metadata": {},
   "outputs": [
    {
     "data": {
      "image/png": "[encoded data removed]",
      "text/plain": [
       "<Figure size 432x288 with 1 Axes>"
      ]
     },
     "metadata": {
      "needs_background": "light"
     },
     "output_type": "display_data"
    },
    {
     "data": {
      "image/png": "[encoded data removed]",
      "text/plain": [
       "<Figure size 432x288 with 1 Axes>"
      ]
     },
     "metadata": {
      "needs_background": "light"
     },
     "output_type": "display_data"
    },
    {
     "data": {
      "image/png": "[encoded data removed]",
      "text/plain": [
       "<Figure size 432x288 with 1 Axes>"
      ]
     },
     "metadata": {
      "needs_background": "light"
     },
     "output_type": "display_data"
    }
   ],
   "source": [
    "# look at the scatter matrices of the numeric data, based on charges.\n",
    "insurance.plot(kind='scatter', x='charges', y='age', alpha=0.1)\n",
    "insurance.plot(kind='scatter', x='charges', y='bmi', alpha=0.1)\n",
    "insurance.plot(kind='scatter', x='charges', y='children', alpha = 0.1)\n",
    "plt.show()"
   ]
  },
  {
   "cell_type": "code",
   "execution_count": 15,
   "metadata": {},
   "outputs": [
    {
     "name": "stdout",
     "output_type": "stream",
     "text": [
      "(1070, 11)\n"
     ]
    },
    {
     "data": {
      "text/plain": [
       "array([[-1.35028584,  0.20447557, -0.88692191, ...,  1.        ,\n",
       "         0.        ,  0.        ],\n",
       "       [ 0.56102028, -0.86375633,  0.77218026, ...,  0.        ,\n",
       "         0.        ,  0.        ],\n",
       "       [ 0.70259851, -0.14112887, -0.05737082, ...,  0.        ,\n",
       "         0.        ,  0.        ],\n",
       "       ...,\n",
       "       [ 0.77338763,  0.23589415,  0.77218026, ...,  0.        ,\n",
       "         0.        ,  0.        ],\n",
       "       [ 1.41048967,  1.00564949, -0.05737082, ...,  0.        ,\n",
       "         0.        ,  0.        ],\n",
       "       [ 1.19812232,  0.49220366,  2.43128244, ...,  0.        ,\n",
       "         1.        ,  0.        ]])"
      ]
     },
     "execution_count": 15,
     "metadata": {},
     "output_type": "execute_result"
    }
   ],
   "source": [
    "# Copy the imports and DataFrameSelector class from the 02-Housing sample.\n",
    "from sklearn.impute import SimpleImputer\n",
    "from sklearn.preprocessing import OneHotEncoder, StandardScaler\n",
    "from sklearn.pipeline import FeatureUnion, Pipeline\n",
    "from sklearn.base import BaseEstimator, TransformerMixin\n",
    "\n",
    "#create attribute sets\n",
    "insurance_labels = strat_train_set['charges'].copy()\n",
    "insurance_num = insurance.drop(['sex','smoker','region','charges'], axis=1)\n",
    "num_attribs = list(insurance_num)\n",
    "cat_attribs = (['sex','smoker','region'])\n",
    "# Then, make numeric pipeline that uses the DataFrameSelector to choose\n",
    "# the numeric features, fills in any missing values with the field means,\n",
    "# and scales the numeric data using the StandardScaler.\n",
    "\n",
    "\n",
    "\n",
    "\n",
    "\n",
    "\n",
    "#Dataframe selector class\n",
    "class DataFrameSelector(BaseEstimator, TransformerMixin):\n",
    "    def __init__(self, attribute_names):\n",
    "        self.attribute_names = attribute_names  \n",
    "    def fit(self, X, y=None):\n",
    "        return self\n",
    "    def transform(self, X):\n",
    "        return X[self.attribute_names].values\n",
    "    \n",
    "    \n",
    "    \n",
    "# Create a pipeline of the numeric transformations to perform. It does this:\n",
    "# 1. selects just the numeric columns\n",
    "# 2. fills in missing data by using the mean of the existing feature values\n",
    "# 3. calculates the three extra features we looked at before\n",
    "# 4. scales the features values to be all in similar ranges\n",
    "num_pipeline = Pipeline([\n",
    "    ('selector', DataFrameSelector(num_attribs)),\n",
    "    ('imputer', SimpleImputer(strategy='mean')),\n",
    "    ('std_scaler', StandardScaler()),\n",
    "])     \n",
    "\n",
    "\n",
    "\n",
    "\n",
    "# Also make a non-numeric pipeline that selects the non-numeric fields,\n",
    "# then uses a OneHotEncoder to take care of the categorical data.\n",
    "\n",
    "\n",
    "\n",
    "# Create a pipeline for transforming the non-numeric attribute. It does this:\n",
    "# 1. selects just the non-numeric column\n",
    "# 2. uses one-hot encoding to transform the ocean_proximity field to a sparse binary vector\n",
    "cat_pipeline = Pipeline([\n",
    "    ('selector', DataFrameSelector(cat_attribs)),\n",
    "    ('cat_encoder', OneHotEncoder()),\n",
    "])\n",
    "\n",
    "\n",
    "# Finally, make and apply a full pipeline that does the numeric and \n",
    "# then the non-numeric pipelines.\n",
    "\n",
    "full_pipeline = FeatureUnion(transformer_list=[\n",
    "    ('num_pipeline', num_pipeline),\n",
    "    ('cat_pipeline', cat_pipeline),\n",
    "])\n",
    "\n",
    "\n",
    "# execute the pipeline and view the results\n",
    "insurance_prepared = full_pipeline.fit_transform(insurance)\n",
    "print(insurance_prepared.shape)\n",
    "insurance_prepared.toarray()\n",
    "\n",
    "\n",
    "\n",
    "#"
   ]
  },
  {
   "cell_type": "code",
   "execution_count": 16,
   "metadata": {},
   "outputs": [
    {
     "name": "stdout",
     "output_type": "stream",
     "text": [
      "3796.87\t2261.57\n",
      "9318.58\t9225.26\n",
      "10793.66\t9288.03\n",
      "5895.31\t3490.55\n",
      "15722.44\t16069.08\n"
     ]
    }
   ],
   "source": [
    "# Train a LinearRegression model on the prepared training data, and\n",
    "# compare its predictions to the labels, for the first few values\n",
    "# in the training set.\n",
    "\n",
    "\n",
    "from sklearn.linear_model import LinearRegression\n",
    "lin_reg = LinearRegression()\n",
    "lin_reg.fit(insurance_prepared, insurance_labels)\n",
    "\n",
    "\n",
    "some_data = insurance.iloc[:5]\n",
    "some_labels = insurance_labels.iloc[:5]\n",
    "\n",
    "some_data_prepared = full_pipeline.transform(some_data)\n",
    "\n",
    "list_predictions = lin_reg.predict(some_data_prepared)\n",
    "list_labels = list(some_labels)\n",
    "\n",
    "for (p, l) in zip(list_predictions, list_labels):\n",
    "    print(\"%.2f\\t%.2f\" % (p, l))\n"
   ]
  },
  {
   "cell_type": "code",
   "execution_count": 17,
   "metadata": {},
   "outputs": [
    {
     "data": {
      "text/plain": [
       "5753.831332990907"
      ]
     },
     "execution_count": 17,
     "metadata": {},
     "output_type": "execute_result"
    }
   ],
   "source": [
    "# use the RMSE measure to quantify the quality of the LinearRegression model.\n",
    "from sklearn.metrics import mean_squared_error\n",
    "\n",
    "insurance_predictions = lin_reg.predict(insurance_prepared)\n",
    "lin_mse = mean_squared_error(insurance_labels, insurance_predictions)\n",
    "lin_rmse = np.sqrt(lin_mse)\n",
    "lin_rmse"
   ]
  },
  {
   "cell_type": "code",
   "execution_count": 18,
   "metadata": {},
   "outputs": [
    {
     "data": {
      "text/plain": [
       "494.20611774750967"
      ]
     },
     "execution_count": 18,
     "metadata": {},
     "output_type": "execute_result"
    }
   ],
   "source": [
    "# Train a DecisionTreeRegressor on the training data, and measure its quality\n",
    "# with RMSE\n",
    "from sklearn.tree import DecisionTreeRegressor\n",
    "\n",
    "# create and train the model\n",
    "tree_reg = DecisionTreeRegressor()\n",
    "tree_reg.fit(insurance_prepared, insurance_labels)\n",
    "\n",
    "# make predicitons\n",
    "insurance_predictions = tree_reg.predict(insurance_prepared)\n",
    "\n",
    "# how good is it?\n",
    "tree_mse = mean_squared_error(insurance_labels, insurance_predictions)\n",
    "tree_rmse = np.sqrt(tree_mse)\n",
    "tree_rmse"
   ]
  },
  {
   "cell_type": "code",
   "execution_count": 19,
   "metadata": {},
   "outputs": [
    {
     "name": "stderr",
     "output_type": "stream",
     "text": [
      "C:\\Users\\Alex\\Anaconda3\\lib\\site-packages\\sklearn\\ensemble\\forest.py:246: FutureWarning: The default value of n_estimators will change from 10 in version 0.20 to 100 in 0.22.\n",
      "  \"10 in version 0.20 to 100 in 0.22.\", FutureWarning)\n"
     ]
    },
    {
     "name": "stdout",
     "output_type": "stream",
     "text": [
      "1966.8857054434434\n",
      "Scores: [4374.44936684 4542.29010766 3879.44180687 3836.53358497 4874.80059535\n",
      " 5262.09550667 4204.50566796 5458.55164569 4362.49551435 4811.42599297]\n",
      "Mean: 4560.658978932416\n",
      "Standard deviation: 514.7167464075997\n"
     ]
    }
   ],
   "source": [
    "# Train a RandomForestRegressor on the training data, and measure its quality\n",
    "# with RMSE\n",
    "from sklearn.ensemble import RandomForestRegressor\n",
    "\n",
    "from sklearn.model_selection import cross_val_score\n",
    "def display_scores(scores):\n",
    "    print('Scores:', scores)\n",
    "    print('Mean:', scores.mean())\n",
    "    print('Standard deviation:', scores.std())\n",
    "    \n",
    "#create and train the model\n",
    "forest_reg = RandomForestRegressor()\n",
    "forest_reg.fit(insurance_prepared, insurance_labels)\n",
    "\n",
    "forest_predictions = forest_reg.predict(insurance_prepared)\n",
    "\n",
    "forest_mse = mean_squared_error(insurance_labels, forest_predictions)\n",
    "forest_rmse = np.sqrt(forest_mse)\n",
    "print(forest_rmse)\n",
    "\n",
    "forest_scores = cross_val_score(forest_reg, insurance_prepared, insurance_labels, scoring='neg_mean_squared_error', cv=10)\n",
    "forest_rmse_scores = np.sqrt(-forest_scores)\n",
    "\n",
    "display_scores(forest_rmse_scores)"
   ]
  },
  {
   "cell_type": "code",
   "execution_count": 20,
   "metadata": {},
   "outputs": [
    {
     "name": "stdout",
     "output_type": "stream",
     "text": [
      "Scores: [5513.97894102 5687.13448981 5037.27483002 5139.84101273 5968.28813402\n",
      " 6396.61570873 6282.33624754 6472.62667952 5618.10818575 5982.49846898]\n",
      "Mean: 5809.870269812651\n",
      "Standard deviation: 474.01143969520655\n"
     ]
    }
   ],
   "source": [
    "# Do cross validation on all the regressors to \n",
    "# see if the models are over or underfitting\n",
    "lin_scores = cross_val_score(lin_reg, insurance_prepared, insurance_labels,\n",
    "                            scoring='neg_mean_squared_error', cv=10)\n",
    "lin_rmse_scores = np.sqrt(-lin_scores)\n",
    "\n",
    "display_scores(lin_rmse_scores)"
   ]
  },
  {
   "cell_type": "code",
   "execution_count": 21,
   "metadata": {
    "scrolled": true
   },
   "outputs": [
    {
     "data": {
      "text/plain": [
       "RandomForestRegressor(bootstrap=True, criterion='mse', max_depth=None,\n",
       "           max_features=8, max_leaf_nodes=None, min_impurity_decrease=0.0,\n",
       "           min_impurity_split=None, min_samples_leaf=1,\n",
       "           min_samples_split=2, min_weight_fraction_leaf=0.0,\n",
       "           n_estimators=30, n_jobs=None, oob_score=False,\n",
       "           random_state=None, verbose=0, warm_start=False)"
      ]
     },
     "execution_count": 21,
     "metadata": {},
     "output_type": "execute_result"
    }
   ],
   "source": [
    "# Use a GridSearchCV object to try to get better hyperparameters for the RandomForestRegressors\n",
    "from sklearn.model_selection import GridSearchCV\n",
    "\n",
    "param_grid = [\n",
    "    {'n_estimators': [3, 10, 30], 'max_features': [2, 4, 6, 8]},\n",
    "    {'bootstrap': [False], 'n_estimators': [3, 10], 'max_features': [2, 3, 4]},\n",
    "]\n",
    "\n",
    "#create and train a model\n",
    "forest_reg = RandomForestRegressor()\n",
    "grid_search = GridSearchCV(forest_reg, param_grid, cv=5,\n",
    "                          scoring='neg_mean_squared_error')\n",
    "grid_search.fit(insurance_prepared, insurance_labels)\n",
    "grid_search.best_estimator_\n"
   ]
  },
  {
   "cell_type": "code",
   "execution_count": 22,
   "metadata": {
    "scrolled": true
   },
   "outputs": [
    {
     "name": "stdout",
     "output_type": "stream",
     "text": [
      "6079.699125439638\n"
     ]
    }
   ],
   "source": [
    "# test your best model on the test data set\n",
    "final_model = grid_search.best_estimator_\n",
    "\n",
    "\n",
    "X_test = strat_test_set.drop('charges', axis=1)\n",
    "y_test = strat_test_set['charges'].copy()\n",
    "\n",
    "X_test_prepared = full_pipeline.transform(X_test)\n",
    "\n",
    "final_predictions = final_model.predict(X_test_prepared)\n",
    "\n",
    "final_mse = mean_squared_error(y_test, final_predictions)\n",
    "final_rmse = np.sqrt(final_mse)\n",
    "\n",
    "print(final_rmse)"
   ]
  },
  {
   "cell_type": "code",
   "execution_count": 23,
   "metadata": {
    "scrolled": true
   },
   "outputs": [
    {
     "name": "stdout",
     "output_type": "stream",
     "text": [
      "<class 'pandas.core.frame.DataFrame'>\n",
      "Int64Index: 268 entries, 959 to 1165\n",
      "Data columns (total 7 columns):\n",
      "age         268 non-null int64\n",
      "sex         268 non-null object\n",
      "bmi         265 non-null float64\n",
      "children    268 non-null int64\n",
      "smoker      268 non-null object\n",
      "region      268 non-null object\n",
      "charges     268 non-null float64\n",
      "dtypes: float64(2), int64(2), object(3)\n",
      "memory usage: 16.8+ KB\n"
     ]
    }
   ],
   "source": [
    "strat_test_set.info()"
   ]
  },
  {
   "cell_type": "code",
   "execution_count": null,
   "metadata": {},
   "outputs": [],
   "source": []
  }
 ],
 "metadata": {
  "kernelspec": {
   "display_name": "Python 3",
   "language": "python",
   "name": "python3"
  },
  "language_info": {
   "codemirror_mode": {
    "name": "ipython",
    "version": 3
   },
   "file_extension": ".py",
   "mimetype": "text/x-python",
   "name": "python",
   "nbconvert_exporter": "python",
   "pygments_lexer": "ipython3",
   "version": "3.7.1"
  }
 },
 "nbformat": 4,
 "nbformat_minor": 2
}
